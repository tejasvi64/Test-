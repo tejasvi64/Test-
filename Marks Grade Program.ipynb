{
 "cells": [
  {
   "cell_type": "code",
   "execution_count": 7,
   "id": "e4d02f39",
   "metadata": {},
   "outputs": [
    {
     "name": "stdout",
     "output_type": "stream",
     "text": [
      "enter your marks32\n",
      "fail\n"
     ]
    }
   ],
   "source": [
    "marks = float(input(\"enter your marks\"))\n",
    "if marks<40:\n",
    "    print(\"fail\")\n",
    "elif marks>=40 and marks<50:\n",
    "    print(\"grade d\")\n",
    "elif marks>=50 and marks<60:\n",
    "    print(\"grade c\")\n",
    "elif marks>=60 and marks<70:\n",
    "    print(\"grade b\")\n",
    "elif marks>=70 and marks<80:\n",
    "    print(\"garde b++\")\n",
    "elif marks>=80 and marks<90:\n",
    "    print(\"grade a\")\n",
    "elif marks>=90 and marks<=100:\n",
    "    print(\"grade a++\")"
   ]
  },
  {
   "cell_type": "code",
   "execution_count": null,
   "id": "5f63fbbb",
   "metadata": {},
   "outputs": [],
   "source": []
  },
  {
   "cell_type": "code",
   "execution_count": null,
   "id": "8ddd9dad",
   "metadata": {},
   "outputs": [],
   "source": []
  }
 ],
 "metadata": {
  "kernelspec": {
   "display_name": "Python 3 (ipykernel)",
   "language": "python",
   "name": "python3"
  },
  "language_info": {
   "codemirror_mode": {
    "name": "ipython",
    "version": 3
   },
   "file_extension": ".py",
   "mimetype": "text/x-python",
   "name": "python",
   "nbconvert_exporter": "python",
   "pygments_lexer": "ipython3",
   "version": "3.10.2"
  }
 },
 "nbformat": 4,
 "nbformat_minor": 5
}
