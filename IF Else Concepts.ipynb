{
 "cells": [
  {
   "cell_type": "code",
   "execution_count": 7,
   "id": "2705de43",
   "metadata": {},
   "outputs": [
    {
     "name": "stdout",
     "output_type": "stream",
     "text": [
      "a25\n"
     ]
    },
    {
     "data": {
      "text/plain": [
       "True"
      ]
     },
     "execution_count": 7,
     "metadata": {},
     "output_type": "execute_result"
    }
   ],
   "source": [
    "div = int(input(\"a\"))\n",
    "div = div % 5 == 0\n",
    "div"
   ]
  },
  {
   "cell_type": "code",
   "execution_count": 8,
   "id": "13e66f6e",
   "metadata": {},
   "outputs": [
    {
     "data": {
      "text/plain": [
       "5.0"
      ]
     },
     "execution_count": 8,
     "metadata": {},
     "output_type": "execute_result"
    }
   ],
   "source": [
    "25/5"
   ]
  },
  {
   "cell_type": "code",
   "execution_count": 9,
   "id": "bb2ec0e8",
   "metadata": {},
   "outputs": [
    {
     "data": {
      "text/plain": [
       "0"
      ]
     },
     "execution_count": 9,
     "metadata": {},
     "output_type": "execute_result"
    }
   ],
   "source": [
    "25%5"
   ]
  },
  {
   "cell_type": "code",
   "execution_count": 10,
   "id": "3b892af0",
   "metadata": {},
   "outputs": [
    {
     "data": {
      "text/plain": [
       "4"
      ]
     },
     "execution_count": 10,
     "metadata": {},
     "output_type": "execute_result"
    }
   ],
   "source": [
    "24%5"
   ]
  },
  {
   "cell_type": "code",
   "execution_count": 12,
   "id": "456484d1",
   "metadata": {},
   "outputs": [
    {
     "name": "stdout",
     "output_type": "stream",
     "text": [
      "a15\n"
     ]
    },
    {
     "data": {
      "text/plain": [
       "True"
      ]
     },
     "execution_count": 12,
     "metadata": {},
     "output_type": "execute_result"
    }
   ],
   "source": [
    "div = int(input(\"a\"))\n",
    "div = div % 5 == 0 and div % 3 == 0\n",
    "div"
   ]
  },
  {
   "cell_type": "code",
   "execution_count": 15,
   "id": "2b332a1a",
   "metadata": {},
   "outputs": [],
   "source": [
    "n =10\n",
    "if n%3 == 0:\n",
    "    print(\"number is divisible by 3\")"
   ]
  },
  {
   "cell_type": "code",
   "execution_count": 16,
   "id": "122ae4ef",
   "metadata": {},
   "outputs": [
    {
     "name": "stdout",
     "output_type": "stream",
     "text": [
      "number is not divisible by 3 \n"
     ]
    }
   ],
   "source": [
    "n =10\n",
    "if n%3 == 0:\n",
    "    print(\"number is divisible by 3\")\n",
    "else:\n",
    "    print(\"number is not divisible by 3 \")"
   ]
  },
  {
   "cell_type": "code",
   "execution_count": 23,
   "id": "430059d5",
   "metadata": {},
   "outputs": [
    {
     "name": "stdout",
     "output_type": "stream",
     "text": [
      "enter the value of a5\n",
      "number is odd \n"
     ]
    }
   ],
   "source": [
    "n = int(input(\"enter the value of a\"))\n",
    "if n%2 == 0:\n",
    "    print(\"number is even\")\n",
    "else:\n",
    "    print(\"number is odd \")\n"
   ]
  },
  {
   "cell_type": "code",
   "execution_count": 24,
   "id": "70ed861d",
   "metadata": {},
   "outputs": [
    {
     "name": "stdout",
     "output_type": "stream",
     "text": [
      "enter the value of a9\n",
      "number is odd \n"
     ]
    }
   ],
   "source": [
    "n = int(input(\"enter the value of a\"))\n",
    "if n%2 == 0:\n",
    "    print(\"number is even\")\n",
    "else:\n",
    "    print(\"number is odd \")"
   ]
  },
  {
   "cell_type": "code",
   "execution_count": 26,
   "id": "e78e536a",
   "metadata": {},
   "outputs": [
    {
     "name": "stdout",
     "output_type": "stream",
     "text": [
      "enter the number16\n",
      "enter the number20\n",
      "n2 is greatest \n"
     ]
    }
   ],
   "source": [
    "n1 = int(input(\"enter the number\"))\n",
    "n2 = int(input(\"enter the number\"))\n",
    "if n1> n2:\n",
    "    print(\"n1 is greatest\")\n",
    "else:\n",
    "    print(\"n2 is greatest \")"
   ]
  },
  {
   "cell_type": "code",
   "execution_count": 31,
   "id": "31b63d15",
   "metadata": {},
   "outputs": [
    {
     "name": "stdout",
     "output_type": "stream",
     "text": [
      "enter the number23\n",
      "enter the number45\n",
      "enter the number67\n",
      "n3 is greatest\n"
     ]
    }
   ],
   "source": [
    "n1 = int(input(\"enter the number\"))\n",
    "n2 = int(input(\"enter the number\"))\n",
    "n3 = int(input(\"enter the number\"))\n",
    "if n1> n2 and n1>n3:\n",
    "    print(\"n1 is greatest\")\n",
    "if(n2> n3):\n",
    "    print(\"n2 is greatest \")\n",
    "else:\n",
    "    print(\"n3 is greatest\")"
   ]
  },
  {
   "cell_type": "code",
   "execution_count": 42,
   "id": "2f637636",
   "metadata": {},
   "outputs": [
    {
     "name": "stdout",
     "output_type": "stream",
     "text": [
      "enter the number:23\n",
      "enter the number:22\n",
      "enter the number:65\n",
      "enter the number:23\n",
      "n3 is greatest\n"
     ]
    }
   ],
   "source": [
    "n1 = int(input(\"enter the number:\"))\n",
    "n2 = int(input(\"enter the number:\"))\n",
    "n3 = int(input(\"enter the number:\"))\n",
    "n4 = int(input(\"enter the number:\"))\n",
    "if n1> n2 and n1>n3 and n1>n4:\n",
    "    print(\"n1 is greatest\")\n",
    "elif(n2> n3) and n2>n4:\n",
    "    print(\"n2 is greatest \")\n",
    "elif(n3>n4):\n",
    "    print(\"n3 is greatest\")\n",
    "else:\n",
    "    print(\"n4 greatest\")"
   ]
  },
  {
   "cell_type": "markdown",
   "id": "1ae39e7d",
   "metadata": {},
   "source": [
    "### "
   ]
  }
 ],
 "metadata": {
  "kernelspec": {
   "display_name": "Python 3 (ipykernel)",
   "language": "python",
   "name": "python3"
  },
  "language_info": {
   "codemirror_mode": {
    "name": "ipython",
    "version": 3
   },
   "file_extension": ".py",
   "mimetype": "text/x-python",
   "name": "python",
   "nbconvert_exporter": "python",
   "pygments_lexer": "ipython3",
   "version": "3.10.2"
  }
 },
 "nbformat": 4,
 "nbformat_minor": 5
}
