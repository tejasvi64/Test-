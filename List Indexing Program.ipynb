{
 "cells": [
  {
   "cell_type": "code",
   "execution_count": 1,
   "id": "f3528a2a",
   "metadata": {},
   "outputs": [
    {
     "data": {
      "text/plain": [
       "16"
      ]
     },
     "execution_count": 1,
     "metadata": {},
     "output_type": "execute_result"
    }
   ],
   "source": [
    "s = \"i am happy today\"\n",
    "len(s)"
   ]
  },
  {
   "cell_type": "code",
   "execution_count": 5,
   "id": "109b179b",
   "metadata": {},
   "outputs": [
    {
     "data": {
      "text/plain": [
       "' '"
      ]
     },
     "execution_count": 5,
     "metadata": {},
     "output_type": "execute_result"
    }
   ],
   "source": [
    "s[4]"
   ]
  },
  {
   "cell_type": "code",
   "execution_count": 6,
   "id": "8e250b68",
   "metadata": {},
   "outputs": [
    {
     "data": {
      "text/plain": [
       "' toda'"
      ]
     },
     "execution_count": 6,
     "metadata": {},
     "output_type": "execute_result"
    }
   ],
   "source": [
    "s[10:15]"
   ]
  },
  {
   "cell_type": "code",
   "execution_count": 7,
   "id": "fae8ec70",
   "metadata": {},
   "outputs": [
    {
     "data": {
      "text/plain": [
       "'i am happy today'"
      ]
     },
     "execution_count": 7,
     "metadata": {},
     "output_type": "execute_result"
    }
   ],
   "source": [
    "s[:]"
   ]
  },
  {
   "cell_type": "code",
   "execution_count": 9,
   "id": "24a9b8c6",
   "metadata": {},
   "outputs": [
    {
     "data": {
      "text/plain": [
       "'am hap'"
      ]
     },
     "execution_count": 9,
     "metadata": {},
     "output_type": "execute_result"
    }
   ],
   "source": [
    "s[2:8]"
   ]
  },
  {
   "cell_type": "code",
   "execution_count": 10,
   "id": "ef9ec669",
   "metadata": {},
   "outputs": [
    {
     "data": {
      "text/plain": [
       "'py to'"
      ]
     },
     "execution_count": 10,
     "metadata": {},
     "output_type": "execute_result"
    }
   ],
   "source": [
    "s[8:13]"
   ]
  },
  {
   "cell_type": "code",
   "execution_count": 12,
   "id": "057c5eaa",
   "metadata": {},
   "outputs": [
    {
     "data": {
      "text/plain": [
       "'mhpytd'"
      ]
     },
     "execution_count": 12,
     "metadata": {},
     "output_type": "execute_result"
    }
   ],
   "source": [
    "s[3:15:2]"
   ]
  },
  {
   "cell_type": "code",
   "execution_count": 13,
   "id": "b7d64697",
   "metadata": {},
   "outputs": [
    {
     "data": {
      "text/plain": [
       "'softwar'"
      ]
     },
     "execution_count": 13,
     "metadata": {},
     "output_type": "execute_result"
    }
   ],
   "source": [
    "s1 =\"madridsoftware\"\n",
    "s1[0:5]\n",
    "s1[6:13]"
   ]
  },
  {
   "cell_type": "code",
   "execution_count": null,
   "id": "1561601b",
   "metadata": {},
   "outputs": [],
   "source": []
  }
 ],
 "metadata": {
  "kernelspec": {
   "display_name": "Python 3 (ipykernel)",
   "language": "python",
   "name": "python3"
  },
  "language_info": {
   "codemirror_mode": {
    "name": "ipython",
    "version": 3
   },
   "file_extension": ".py",
   "mimetype": "text/x-python",
   "name": "python",
   "nbconvert_exporter": "python",
   "pygments_lexer": "ipython3",
   "version": "3.10.2"
  }
 },
 "nbformat": 4,
 "nbformat_minor": 5
}
