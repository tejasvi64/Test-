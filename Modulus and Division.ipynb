{
 "cells": [
  {
   "cell_type": "code",
   "execution_count": 3,
   "id": "41f057a8",
   "metadata": {},
   "outputs": [
    {
     "name": "stdout",
     "output_type": "stream",
     "text": [
      "a50\n"
     ]
    },
    {
     "data": {
      "text/plain": [
       "True"
      ]
     },
     "execution_count": 3,
     "metadata": {},
     "output_type": "execute_result"
    }
   ],
   "source": [
    "div = int(input (\"a\"))\n",
    "div = div %5 == 0\n",
    "div"
   ]
  },
  {
   "cell_type": "code",
   "execution_count": 4,
   "id": "acc50b64",
   "metadata": {},
   "outputs": [
    {
     "data": {
      "text/plain": [
       "5.0"
      ]
     },
     "execution_count": 4,
     "metadata": {},
     "output_type": "execute_result"
    }
   ],
   "source": [
    "25/5"
   ]
  },
  {
   "cell_type": "code",
   "execution_count": 5,
   "id": "0ebd9a48",
   "metadata": {},
   "outputs": [
    {
     "data": {
      "text/plain": [
       "0"
      ]
     },
     "execution_count": 5,
     "metadata": {},
     "output_type": "execute_result"
    }
   ],
   "source": [
    "25%5"
   ]
  },
  {
   "cell_type": "code",
   "execution_count": 6,
   "id": "a3b6783c",
   "metadata": {},
   "outputs": [
    {
     "data": {
      "text/plain": [
       "1"
      ]
     },
     "execution_count": 6,
     "metadata": {},
     "output_type": "execute_result"
    }
   ],
   "source": [
    "25%4\n"
   ]
  },
  {
   "cell_type": "code",
   "execution_count": 10,
   "id": "0b30018a",
   "metadata": {},
   "outputs": [
    {
     "name": "stdout",
     "output_type": "stream",
     "text": [
      "a18\n"
     ]
    },
    {
     "data": {
      "text/plain": [
       "False"
      ]
     },
     "execution_count": 10,
     "metadata": {},
     "output_type": "execute_result"
    }
   ],
   "source": [
    "div = int(input('a'))\n",
    "div= div%5 == 0 and div%3 ==0\n",
    "div"
   ]
  },
  {
   "cell_type": "code",
   "execution_count": 14,
   "id": "d9ba428b",
   "metadata": {},
   "outputs": [
    {
     "name": "stdout",
     "output_type": "stream",
     "text": [
      "enter the value of a35\n",
      "number is even\n"
     ]
    }
   ],
   "source": [
    "n = int(input(\"enter the value of a\"))\n",
    "if(n%5 == 0):\n",
    "    print(\"number is even\")\n",
    "else:\n",
    "    print(\"number is odd\")\n"
   ]
  },
  {
   "cell_type": "code",
   "execution_count": 21,
   "id": "88e7419d",
   "metadata": {},
   "outputs": [
    {
     "name": "stdout",
     "output_type": "stream",
     "text": [
      "enter the number n122\n",
      "enter the number n278\n",
      "enter the number n354\n",
      "n2 is greatest\n"
     ]
    }
   ],
   "source": [
    "n1 = int(input(\"enter the number n1\"))\n",
    "n2 = int(input(\"enter the number n2\"))\n",
    "n3 = int(input(\"enter the number n3\"))\n",
    "if n1>n2 and n1>n3:\n",
    "    print('n1 is greatest')\n",
    "elif n2>n3:\n",
    "    print('n2 is greatest')\n",
    "else:\n",
    "    print('n3 is greatest')"
   ]
  },
  {
   "cell_type": "code",
   "execution_count": null,
   "id": "ceb3596d",
   "metadata": {},
   "outputs": [],
   "source": []
  }
 ],
 "metadata": {
  "kernelspec": {
   "display_name": "Python 3 (ipykernel)",
   "language": "python",
   "name": "python3"
  },
  "language_info": {
   "codemirror_mode": {
    "name": "ipython",
    "version": 3
   },
   "file_extension": ".py",
   "mimetype": "text/x-python",
   "name": "python",
   "nbconvert_exporter": "python",
   "pygments_lexer": "ipython3",
   "version": "3.10.2"
  }
 },
 "nbformat": 4,
 "nbformat_minor": 5
}
