{
 "cells": [
  {
   "cell_type": "code",
   "execution_count": 1,
   "id": "d1f7a5b3",
   "metadata": {},
   "outputs": [
    {
     "name": "stdout",
     "output_type": "stream",
     "text": [
      "enter your units 130\n",
      "total =  150.0\n"
     ]
    }
   ],
   "source": [
    "u= float(input(\"enter your units \"))\n",
    "if u<=100:\n",
    "    print('no charge')\n",
    "elif u>100 and u<=200:\n",
    "        print('total = ' , (u-100)*5)\n",
    "elif u>200:\n",
    "    print('total = ', 500 + (u-200)*10)"
   ]
  },
  {
   "cell_type": "code",
   "execution_count": 7,
   "id": "860f8ad7",
   "metadata": {},
   "outputs": [
    {
     "name": "stdout",
     "output_type": "stream",
     "text": [
      "enter your units432\n",
      "total =  2820.0\n"
     ]
    }
   ],
   "source": [
    "u = float(input(\"enter your units\"))\n",
    "if u<=100:\n",
    "    print(\"no charge\")\n",
    "elif u>100 and u<=200:\n",
    "    print('total =' , (u-100)*5)\n",
    "elif u>200:\n",
    "    print('total = ', 500 + (u-200)*10)"
   ]
  },
  {
   "cell_type": "code",
   "execution_count": 10,
   "id": "56e755e8",
   "metadata": {},
   "outputs": [
    {
     "name": "stdout",
     "output_type": "stream",
     "text": [
      "enter the value20\n",
      "leap year\n"
     ]
    }
   ],
   "source": [
    "year = int(input(\"enter the value\"))\n",
    "if(year%4 == 0):\n",
    "   print(\"leap year\")\n",
    "else:\n",
    "   print(\"not a leap year\")\n",
    "   "
   ]
  },
  {
   "cell_type": "code",
   "execution_count": null,
   "id": "f39ff5fa",
   "metadata": {},
   "outputs": [],
   "source": []
  }
 ],
 "metadata": {
  "kernelspec": {
   "display_name": "Python 3 (ipykernel)",
   "language": "python",
   "name": "python3"
  },
  "language_info": {
   "codemirror_mode": {
    "name": "ipython",
    "version": 3
   },
   "file_extension": ".py",
   "mimetype": "text/x-python",
   "name": "python",
   "nbconvert_exporter": "python",
   "pygments_lexer": "ipython3",
   "version": "3.10.2"
  }
 },
 "nbformat": 4,
 "nbformat_minor": 5
}
