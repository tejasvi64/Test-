{
 "cells": [
  {
   "cell_type": "code",
   "execution_count": null,
   "id": "fb0a0fdb",
   "metadata": {},
   "outputs": [],
   "source": [
    "u= float(input(\"enter your units \"))\n",
    "if u<=100:\n",
    "    print('no charge')\n",
    "elif u>100 and u<=200:\n",
    "        print('total = ' , (u-100)*5)\n",
    "elif u>200:\n",
    "    print('total = ', 500 + (u-200)*10)"
   ]
  },
  {
   "cell_type": "code",
   "execution_count": null,
   "id": "fa54054b",
   "metadata": {},
   "outputs": [],
   "source": []
  },
  {
   "cell_type": "code",
   "execution_count": null,
   "id": "12092842",
   "metadata": {},
   "outputs": [],
   "source": []
  }
 ],
 "metadata": {
  "kernelspec": {
   "display_name": "Python 3 (ipykernel)",
   "language": "python",
   "name": "python3"
  },
  "language_info": {
   "codemirror_mode": {
    "name": "ipython",
    "version": 3
   },
   "file_extension": ".py",
   "mimetype": "text/x-python",
   "name": "python",
   "nbconvert_exporter": "python",
   "pygments_lexer": "ipython3",
   "version": "3.10.2"
  }
 },
 "nbformat": 4,
 "nbformat_minor": 5
}
