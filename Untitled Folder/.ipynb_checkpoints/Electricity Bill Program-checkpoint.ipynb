{
 "cells": [
  {
   "cell_type": "code",
   "execution_count": 7,
   "id": "c60a264b",
   "metadata": {},
   "outputs": [
    {
     "name": "stdout",
     "output_type": "stream",
     "text": [
      "enter the units260\n",
      "rs 10 per unit\n"
     ]
    }
   ],
   "source": [
    "unit = float(input(\"enter the units\"))\n",
    "if unit <=100:\n",
    "    print(\"no bill\")\n",
    "elif unit >100 and unit <=200:\n",
    "    print(\"rs 5 per unit\")\n",
    "else:\n",
    "    print(\"rs 10 per unit\")\n",
    "\n",
    "\n",
    "\n",
    "\n"
   ]
  },
  {
   "cell_type": "code",
   "execution_count": null,
   "id": "c5c72e48",
   "metadata": {},
   "outputs": [],
   "source": [
    "marks = float (input(\"enter the marks\"))\n",
    "if marks>90 and marks<=100:\n",
    "    print(\"grade A\")\n",
    "elif marks>80 and marks<=90:\n",
    "    print(\"grade b\")\n",
    "elif marks>=60 and marks<=80:\n",
    "    print(\"grade c\")\n",
    "elif marks<60:\n",
    "    print(\"grade d\")\n",
    "    "
   ]
  },
  {
   "cell_type": "code",
   "execution_count": null,
   "id": "acfbc029",
   "metadata": {},
   "outputs": [],
   "source": [
    "for i in range (10,0 ,-2):\n",
    "    print(i, end= \"\")"
   ]
  },
  {
   "cell_type": "code",
   "execution_count": null,
   "id": "e943271c",
   "metadata": {},
   "outputs": [],
   "source": [
    "v= [12,23,34,45,56]\n",
    "for i in v:\n",
    "    print(i)"
   ]
  },
  {
   "cell_type": "code",
   "execution_count": null,
   "id": "8eb3f67a",
   "metadata": {},
   "outputs": [],
   "source": []
  }
 ],
 "metadata": {
  "kernelspec": {
   "display_name": "Python 3 (ipykernel)",
   "language": "python",
   "name": "python3"
  },
  "language_info": {
   "codemirror_mode": {
    "name": "ipython",
    "version": 3
   },
   "file_extension": ".py",
   "mimetype": "text/x-python",
   "name": "python",
   "nbconvert_exporter": "python",
   "pygments_lexer": "ipython3",
   "version": "3.10.2"
  }
 },
 "nbformat": 4,
 "nbformat_minor": 5
}
