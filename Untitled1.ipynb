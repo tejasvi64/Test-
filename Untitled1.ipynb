{
 "cells": [
  {
   "cell_type": "code",
   "execution_count": 3,
   "id": "4b684471",
   "metadata": {},
   "outputs": [
    {
     "name": "stdout",
     "output_type": "stream",
     "text": [
      "units350\n",
      "bill = 2000.0\n"
     ]
    }
   ],
   "source": [
    "u= float(input(\"units\"))\n",
    "if u<=100:\n",
    "    print('no charge')\n",
    "elif u>100 and u<=200:\n",
    "    print('bill =' , (u -100)*5)\n",
    "else:\n",
    "    print('bill =', 500 +(u -200)*10)"
   ]
  },
  {
   "cell_type": "code",
   "execution_count": null,
   "id": "9a98bd40",
   "metadata": {},
   "outputs": [],
   "source": []
  }
 ],
 "metadata": {
  "kernelspec": {
   "display_name": "Python 3 (ipykernel)",
   "language": "python",
   "name": "python3"
  },
  "language_info": {
   "codemirror_mode": {
    "name": "ipython",
    "version": 3
   },
   "file_extension": ".py",
   "mimetype": "text/x-python",
   "name": "python",
   "nbconvert_exporter": "python",
   "pygments_lexer": "ipython3",
   "version": "3.10.2"
  }
 },
 "nbformat": 4,
 "nbformat_minor": 5
}
